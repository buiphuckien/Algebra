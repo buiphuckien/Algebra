{
 "cells": [
  {
   "cell_type": "markdown",
   "id": "4ff6da75-08d9-462b-8b8d-573ec750476a",
   "metadata": {},
   "source": [
    "# Finding eigenvalues and eigenvectors"
   ]
  },
  {
   "cell_type": "code",
   "execution_count": 23,
   "id": "dac80a8e-096b-4edb-8631-14512f2e8e15",
   "metadata": {},
   "outputs": [],
   "source": [
    "# Load library\n",
    "import numpy as np\n",
    "import random\n",
    "\n",
    "def r():\n",
    "    return random.randint(0, 5)\n"
   ]
  },
  {
   "cell_type": "code",
   "execution_count": null,
   "id": "aa9dea5d-ffee-4ddd-b293-f9aa59288e91",
   "metadata": {},
   "outputs": [],
   "source": [
    "# Create 3x3-matrix \n",
    "A = np.array([[r() for _ in range(3)] for _ in range(3)])\n",
    "A"
   ]
  },
  {
   "cell_type": "code",
   "execution_count": null,
   "id": "d177eeb4-80c3-4338-a4ca-f7c03ae7a04f",
   "metadata": {},
   "outputs": [],
   "source": [
    "eigenvalues, eigenvectors = np.linalg.eig(A)"
   ]
  },
  {
   "cell_type": "code",
   "execution_count": 24,
   "id": "3c1cc876-608f-44b8-a955-ae3d113fd6db",
   "metadata": {},
   "outputs": [
    {
     "data": {
      "text/plain": [
       "array([1., 2., 3.])"
      ]
     },
     "execution_count": 24,
     "metadata": {},
     "output_type": "execute_result"
    }
   ],
   "source": [
    "eigenvalues"
   ]
  },
  {
   "cell_type": "code",
   "execution_count": 25,
   "id": "51c48bfa-c391-4a6f-820f-073a78e8401b",
   "metadata": {},
   "outputs": [
    {
     "data": {
      "text/plain": [
       "array([[1.        , 0.        , 0.38014296],\n",
       "       [0.        , 1.        , 0.91234311],\n",
       "       [0.        , 0.        , 0.15205718]])"
      ]
     },
     "execution_count": 25,
     "metadata": {},
     "output_type": "execute_result"
    }
   ],
   "source": [
    "eigenvectors"
   ]
  },
  {
   "cell_type": "markdown",
   "id": "21108072-5191-437e-8a98-c14c48298a30",
   "metadata": {},
   "source": [
    "## Selecting element"
   ]
  },
  {
   "cell_type": "code",
   "execution_count": 28,
   "id": "bad3e118-ab98-424f-9f5d-ddddabad8360",
   "metadata": {},
   "outputs": [
    {
     "data": {
      "text/plain": [
       "array([[1, 0],\n",
       "       [0, 2]])"
      ]
     },
     "execution_count": 28,
     "metadata": {},
     "output_type": "execute_result"
    }
   ],
   "source": [
    "# Select row 1 and row 2 of a metrix\n",
    "matrix_d[:2, :]"
   ]
  },
  {
   "cell_type": "code",
   "execution_count": 29,
   "id": "6ff02c03-d365-44fb-93fb-6ec1424a2e50",
   "metadata": {},
   "outputs": [
    {
     "data": {
      "text/plain": [
       "array([[1],\n",
       "       [0],\n",
       "       [0]])"
      ]
     },
     "execution_count": 29,
     "metadata": {},
     "output_type": "execute_result"
    }
   ],
   "source": [
    "# Select the first column of a matrix\n",
    "matrix_d[:, :1]"
   ]
  }
 ],
 "metadata": {
  "kernelspec": {
   "display_name": "Python 3 (ipykernel)",
   "language": "python",
   "name": "python3"
  },
  "language_info": {
   "codemirror_mode": {
    "name": "ipython",
    "version": 3
   },
   "file_extension": ".py",
   "mimetype": "text/x-python",
   "name": "python",
   "nbconvert_exporter": "python",
   "pygments_lexer": "ipython3",
   "version": "3.9.12"
  }
 },
 "nbformat": 4,
 "nbformat_minor": 5
}
