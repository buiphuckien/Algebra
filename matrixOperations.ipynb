{
 "cells": [
  {
   "cell_type": "markdown",
   "id": "4ff6da75-08d9-462b-8b8d-573ec750476a",
   "metadata": {},
   "source": [
    "# Basic matrix operations"
   ]
  },
  {
   "cell_type": "code",
   "execution_count": 62,
   "id": "d015e543-9913-486d-b825-35a8fd3d6303",
   "metadata": {},
   "outputs": [],
   "source": [
    "# Load library\n",
    "import numpy as np"
   ]
  },
  {
   "cell_type": "code",
   "execution_count": 63,
   "id": "91f336bf-b480-4c7a-beb2-ce9c19761fe1",
   "metadata": {},
   "outputs": [],
   "source": [
    "# Load library\n",
    "import random\n",
    "def r():\n",
    "    return random.randint(0, 5)"
   ]
  },
  {
   "cell_type": "code",
   "execution_count": 64,
   "id": "924b1fbd-c090-45c6-a5db-831392c5b5c8",
   "metadata": {},
   "outputs": [
    {
     "data": {
      "text/plain": [
       "array([[3, 3, 1],\n",
       "       [2, 0, 0],\n",
       "       [1, 1, 0],\n",
       "       [5, 3, 4]])"
      ]
     },
     "execution_count": 64,
     "metadata": {},
     "output_type": "execute_result"
    }
   ],
   "source": [
    "# Create 4x3-matrix \n",
    "A = np.array([[r() for _ in range(3)] for _ in range(4)])\n",
    "A"
   ]
  },
  {
   "cell_type": "code",
   "execution_count": 65,
   "id": "cab0cc44-b60c-48f8-84f3-8c7dfdf720b2",
   "metadata": {},
   "outputs": [
    {
     "data": {
      "text/plain": [
       "array([[5, 3, 2],\n",
       "       [1, 1, 0],\n",
       "       [3, 0, 0],\n",
       "       [2, 1, 3]])"
      ]
     },
     "execution_count": 65,
     "metadata": {},
     "output_type": "execute_result"
    }
   ],
   "source": [
    "# Create 3x4-matrix \n",
    "B = np.array([[r() for _ in range(3)] for _ in range(4)])\n",
    "B"
   ]
  },
  {
   "cell_type": "markdown",
   "id": "0794c423-c514-4590-a711-6bca9f7d787c",
   "metadata": {},
   "source": [
    "## Addition\n",
    "When A and B are the same size matrices, We can add or minus them together."
   ]
  },
  {
   "cell_type": "code",
   "execution_count": 66,
   "id": "d950a16f-3da3-4083-8ff3-8b1808325673",
   "metadata": {
    "tags": []
   },
   "outputs": [
    {
     "data": {
      "text/plain": [
       "array([[8, 6, 3],\n",
       "       [3, 1, 0],\n",
       "       [4, 1, 0],\n",
       "       [7, 4, 7]])"
      ]
     },
     "execution_count": 66,
     "metadata": {},
     "output_type": "execute_result"
    }
   ],
   "source": [
    "A + B"
   ]
  },
  {
   "cell_type": "markdown",
   "id": "a9d801b8-92cc-4059-a6a0-f5dfa5934aa1",
   "metadata": {},
   "source": [
    "## Subtraction"
   ]
  },
  {
   "cell_type": "code",
   "execution_count": 67,
   "id": "a509d88d-6eff-4a7d-85a3-cc9fd21176bc",
   "metadata": {
    "tags": []
   },
   "outputs": [
    {
     "data": {
      "text/plain": [
       "array([[-2,  0, -1],\n",
       "       [ 1, -1,  0],\n",
       "       [-2,  1,  0],\n",
       "       [ 3,  2,  1]])"
      ]
     },
     "execution_count": 67,
     "metadata": {},
     "output_type": "execute_result"
    }
   ],
   "source": [
    "A - B"
   ]
  },
  {
   "cell_type": "markdown",
   "id": "87febb28-56e8-4127-9ec2-dbfb6eb9b2bb",
   "metadata": {},
   "source": [
    "## Multiplication\n",
    "X@Y performs matrix multiplication. Work only when the number of X'columns equals to the number of Y'rows."
   ]
  },
  {
   "cell_type": "code",
   "execution_count": 68,
   "id": "7e8bb472-3d18-47f8-8c04-7bae3717f092",
   "metadata": {},
   "outputs": [
    {
     "data": {
      "text/plain": [
       "array([[26,  6,  9, 12],\n",
       "       [10,  2,  6,  4],\n",
       "       [ 8,  2,  3,  3],\n",
       "       [42,  8, 15, 25]])"
      ]
     },
     "execution_count": 68,
     "metadata": {},
     "output_type": "execute_result"
    }
   ],
   "source": [
    "A@B.T"
   ]
  },
  {
   "cell_type": "code",
   "execution_count": 69,
   "id": "2a4203b5-9a1a-40e8-b424-1e3f0dad4394",
   "metadata": {
    "tags": []
   },
   "outputs": [
    {
     "data": {
      "text/plain": [
       "array([[30, 24, 13],\n",
       "       [16, 12,  7],\n",
       "       [21, 15, 14]])"
      ]
     },
     "execution_count": 69,
     "metadata": {},
     "output_type": "execute_result"
    }
   ],
   "source": [
    "B.T@A"
   ]
  },
  {
   "cell_type": "markdown",
   "id": "aab1b303-b9e1-4eb8-b1b6-28ced6105db9",
   "metadata": {},
   "source": [
    "## Bitwise multiplication\n",
    "X*Y performs matrix multiplication. Work only when X and Y are same size."
   ]
  },
  {
   "cell_type": "code",
   "execution_count": 70,
   "id": "b4b0915f-a340-4a67-a1d6-b8f23d5bc5bc",
   "metadata": {
    "tags": []
   },
   "outputs": [
    {
     "data": {
      "text/plain": [
       "array([[15,  9,  2],\n",
       "       [ 2,  0,  0],\n",
       "       [ 3,  0,  0],\n",
       "       [10,  3, 12]])"
      ]
     },
     "execution_count": 70,
     "metadata": {},
     "output_type": "execute_result"
    }
   ],
   "source": [
    "A*B"
   ]
  },
  {
   "cell_type": "code",
   "execution_count": 71,
   "id": "d0da8663-3078-4368-a9f0-e8879b2380e2",
   "metadata": {},
   "outputs": [
    {
     "data": {
      "text/plain": [
       "array([[ 6,  6,  2],\n",
       "       [ 4,  0,  0],\n",
       "       [ 2,  2,  0],\n",
       "       [10,  6,  8]])"
      ]
     },
     "execution_count": 71,
     "metadata": {},
     "output_type": "execute_result"
    }
   ],
   "source": [
    "2*A"
   ]
  }
 ],
 "metadata": {
  "kernelspec": {
   "display_name": "Python 3 (ipykernel)",
   "language": "python",
   "name": "python3"
  },
  "language_info": {
   "codemirror_mode": {
    "name": "ipython",
    "version": 3
   },
   "file_extension": ".py",
   "mimetype": "text/x-python",
   "name": "python",
   "nbconvert_exporter": "python",
   "pygments_lexer": "ipython3",
   "version": "3.9.12"
  }
 },
 "nbformat": 4,
 "nbformat_minor": 5
}
