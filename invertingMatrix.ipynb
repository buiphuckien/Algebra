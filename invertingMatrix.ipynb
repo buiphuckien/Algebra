{
 "cells": [
  {
   "cell_type": "markdown",
   "id": "4ff6da75-08d9-462b-8b8d-573ec750476a",
   "metadata": {},
   "source": [
    "# Inverting A Matrix"
   ]
  },
  {
   "cell_type": "code",
   "execution_count": 6,
   "id": "d015e543-9913-486d-b825-35a8fd3d6303",
   "metadata": {},
   "outputs": [],
   "source": [
    "# Load library\n",
    "import numpy as np\n",
    "import random\n",
    "\n",
    "def r():\n",
    "    return random.randint(0, 5)"
   ]
  },
  {
   "cell_type": "code",
   "execution_count": 7,
   "id": "7612fc11-7c34-48aa-a2f8-a50d7b8bae05",
   "metadata": {},
   "outputs": [
    {
     "data": {
      "text/plain": [
       "array([[2, 4, 3],\n",
       "       [3, 5, 0],\n",
       "       [2, 2, 5]])"
      ]
     },
     "execution_count": 7,
     "metadata": {},
     "output_type": "execute_result"
    }
   ],
   "source": [
    "# Create 3x3-matrix \n",
    "A = np.array([[r() for _ in range(3)] for _ in range(3)])\n",
    "A"
   ]
  },
  {
   "cell_type": "markdown",
   "id": "a252104d-d991-4489-b31b-fa90369b62f6",
   "metadata": {},
   "source": [
    "## Calculating the determinant"
   ]
  },
  {
   "cell_type": "code",
   "execution_count": 8,
   "id": "31b96018-b53b-4c1b-996e-737096a1529a",
   "metadata": {},
   "outputs": [
    {
     "data": {
      "text/plain": [
       "-22.000000000000004"
      ]
     },
     "execution_count": 8,
     "metadata": {},
     "output_type": "execute_result"
    }
   ],
   "source": [
    "np.linalg.det(A)"
   ]
  },
  {
   "cell_type": "markdown",
   "id": "c0463d23-eb17-4f99-bff3-8153866694e4",
   "metadata": {},
   "source": [
    "## Inverting a matrix"
   ]
  },
  {
   "cell_type": "code",
   "execution_count": 9,
   "id": "b6036d65-b11b-446a-83fc-1c2d8505ba34",
   "metadata": {},
   "outputs": [
    {
     "data": {
      "text/plain": [
       "array([[-1.13636364,  0.63636364,  0.68181818],\n",
       "       [ 0.68181818, -0.18181818, -0.40909091],\n",
       "       [ 0.18181818, -0.18181818,  0.09090909]])"
      ]
     },
     "execution_count": 9,
     "metadata": {},
     "output_type": "execute_result"
    }
   ],
   "source": [
    "np.linalg.inv(A)"
   ]
  },
  {
   "cell_type": "markdown",
   "id": "2c6a130b-6313-4e82-a419-0f00fe35fa38",
   "metadata": {},
   "source": [
    "## Finding the rank of a matrix"
   ]
  },
  {
   "cell_type": "code",
   "execution_count": 10,
   "id": "1816c4a3-0a87-4937-b7d9-fa6bdb7f7c99",
   "metadata": {},
   "outputs": [
    {
     "data": {
      "text/plain": [
       "3"
      ]
     },
     "execution_count": 10,
     "metadata": {},
     "output_type": "execute_result"
    }
   ],
   "source": [
    "np.linalg.matrix_rank(A)"
   ]
  }
 ],
 "metadata": {
  "kernelspec": {
   "display_name": "Python 3 (ipykernel)",
   "language": "python",
   "name": "python3"
  },
  "language_info": {
   "codemirror_mode": {
    "name": "ipython",
    "version": 3
   },
   "file_extension": ".py",
   "mimetype": "text/x-python",
   "name": "python",
   "nbconvert_exporter": "python",
   "pygments_lexer": "ipython3",
   "version": "3.9.12"
  }
 },
 "nbformat": 4,
 "nbformat_minor": 5
}
