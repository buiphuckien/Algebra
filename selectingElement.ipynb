{
 "cells": [
  {
   "cell_type": "markdown",
   "id": "4ff6da75-08d9-462b-8b8d-573ec750476a",
   "metadata": {},
   "source": [
    "# Selecting matrix element"
   ]
  },
  {
   "cell_type": "code",
   "execution_count": 36,
   "id": "dac80a8e-096b-4edb-8631-14512f2e8e15",
   "metadata": {},
   "outputs": [],
   "source": [
    "# Load library\n",
    "import numpy as np\n",
    "import random\n",
    "\n",
    "def r():\n",
    "    return random.randint(0, 5)\n"
   ]
  },
  {
   "cell_type": "code",
   "execution_count": 37,
   "id": "c36febd4-6e03-4c25-a2b3-97603ad781a1",
   "metadata": {},
   "outputs": [
    {
     "data": {
      "text/plain": [
       "array([[5, 3, 2],\n",
       "       [2, 5, 4],\n",
       "       [4, 4, 5],\n",
       "       [1, 0, 3]])"
      ]
     },
     "execution_count": 37,
     "metadata": {},
     "output_type": "execute_result"
    }
   ],
   "source": [
    "# Create 4x3-matrix \n",
    "A = np.array([[r() for _ in range(3)] for _ in range(4)])\n",
    "A"
   ]
  },
  {
   "cell_type": "markdown",
   "id": "54a51768-2194-455a-a240-3ad103b20d28",
   "metadata": {},
   "source": [
    "### Add row to a matrix"
   ]
  },
  {
   "cell_type": "code",
   "execution_count": 38,
   "id": "bad3e118-ab98-424f-9f5d-ddddabad8360",
   "metadata": {},
   "outputs": [
    {
     "data": {
      "text/plain": [
       "array([2, 2, 3])"
      ]
     },
     "execution_count": 38,
     "metadata": {},
     "output_type": "execute_result"
    }
   ],
   "source": [
    "# new row\n",
    "row = np.array([r() for _ in range(3)])\n",
    "row"
   ]
  },
  {
   "cell_type": "code",
   "execution_count": 39,
   "id": "e4b99445-b6b0-46eb-ac93-ba0f8bf7987b",
   "metadata": {
    "tags": []
   },
   "outputs": [
    {
     "data": {
      "text/plain": [
       "array([[5, 3, 2],\n",
       "       [2, 5, 4],\n",
       "       [4, 4, 5],\n",
       "       [1, 0, 3],\n",
       "       [2, 2, 3]])"
      ]
     },
     "execution_count": 39,
     "metadata": {},
     "output_type": "execute_result"
    }
   ],
   "source": [
    "# Add row to matrix A\n",
    "A = np.append(A, [row], axis=0)\n",
    "A"
   ]
  },
  {
   "cell_type": "markdown",
   "id": "49ab89ac-2119-45be-84d0-64eff14b0681",
   "metadata": {},
   "source": [
    "### Add column to a matrix"
   ]
  },
  {
   "cell_type": "code",
   "execution_count": 40,
   "id": "05a04970-9312-40a0-b96f-180804d9a4d3",
   "metadata": {},
   "outputs": [
    {
     "data": {
      "text/plain": [
       "array([[2],\n",
       "       [0],\n",
       "       [2],\n",
       "       [1],\n",
       "       [5]])"
      ]
     },
     "execution_count": 40,
     "metadata": {},
     "output_type": "execute_result"
    }
   ],
   "source": [
    "# new column\n",
    "column = np.array([[r()] for _ in range(5)])\n",
    "column"
   ]
  },
  {
   "cell_type": "code",
   "execution_count": 41,
   "id": "f2464a85-3d9c-4456-80e9-ba108c2802d9",
   "metadata": {},
   "outputs": [
    {
     "data": {
      "text/plain": [
       "array([[5, 3, 2, 2],\n",
       "       [2, 5, 4, 0],\n",
       "       [4, 4, 5, 2],\n",
       "       [1, 0, 3, 1],\n",
       "       [2, 2, 3, 5]])"
      ]
     },
     "execution_count": 41,
     "metadata": {},
     "output_type": "execute_result"
    }
   ],
   "source": [
    "# Add row to matrix A\n",
    "A = np.append(A, column, axis=1)\n",
    "A"
   ]
  }
 ],
 "metadata": {
  "kernelspec": {
   "display_name": "Python 3 (ipykernel)",
   "language": "python",
   "name": "python3"
  },
  "language_info": {
   "codemirror_mode": {
    "name": "ipython",
    "version": 3
   },
   "file_extension": ".py",
   "mimetype": "text/x-python",
   "name": "python",
   "nbconvert_exporter": "python",
   "pygments_lexer": "ipython3",
   "version": "3.9.12"
  }
 },
 "nbformat": 4,
 "nbformat_minor": 5
}
